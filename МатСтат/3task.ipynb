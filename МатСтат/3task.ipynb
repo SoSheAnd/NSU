{
 "cells": [
  {
   "cell_type": "markdown",
   "id": "81521ba6",
   "metadata": {},
   "source": [
    "## Шевцова Софья\n",
    "группа 20930\n",
    "\n",
    "15 вариант\n",
    "\n",
    "Iris virginica, Длина чашелистика, Ширина лепестка"
   ]
  },
  {
   "cell_type": "code",
   "execution_count": 7,
   "id": "0ebd1437",
   "metadata": {},
   "outputs": [
    {
     "name": "stdout",
     "output_type": "stream",
     "text": [
      "3.1. Проверить гипотезу о независимости переменных по критерию Хи-квадрат\n",
      "Подтверждается, т.к. -40.689588189588186 < 37.6\n"
     ]
    }
   ],
   "source": [
    "import numpy as np\n",
    "import pandas as pd\n",
    "import matplotlib.pyplot as plt\n",
    "import seaborn as sb\n",
    "from sklearn.linear_model import LinearRegression\n",
    "import statistics\n",
    "\n",
    "df = pd.read_csv('iris.csv', sep=',') # чтение файла\n",
    "df = df.drop(df[df.name != 'Iris-virginica'].index) # выбираем необходимый вид ирисов\n",
    "# 3.1\n",
    "print('3.1. Проверить гипотезу о независимости переменных по критерию Хи-квадрат')\n",
    "\n",
    "leni = 6  # По формуле Стьюдента\n",
    "x = pd.Series(df['sepal_length']) # длина чашелистиков\n",
    "y = pd.Series(df['petal_width']) # ширина лепестков\n",
    "\n",
    "l = []\n",
    "for i in range(6):\n",
    "    l.append([0, 0, 0, 0, 0, 0])\n",
    "\n",
    "for n1, n2 in zip([4.8, 5.3, 5.8, 6.3, 6.8, 7.3], [5.3, 5.8, 6.3, 6.8, 7.3, 8.0]): # интервалы для длины чашелистика\n",
    "    s = x.between(n1, n2)\n",
    "    for m1, m2 in zip([1.4, 1.5, 1.6, 1.7, 1.8, 1.9], [1.5, 1.6, 1.7, 1.8, 1.9, 2.5]): # интервалы для ширины лепестка\n",
    "        k = y.between(m1, m2)\n",
    "        df2 = pd.concat([s, k], axis=1)\n",
    "        for i in range(100, 150): # virginica в таблице от 100 до 150\n",
    "            if df2['sepal_length'][i] == True and df2['petal_width'][i] == True:\n",
    "                ind1 = int((n1 - 4.8) / 0.5) # 0.5 - длина интервала\n",
    "                ind2 = int((m1 - 1.4) / 0.1) # 0.1 -длина интервала\n",
    "                l[ind1][ind2] += 1\n",
    "df4 = pd.DataFrame(l, index=[\"(4.8;5.3]\", \"(5.3;5.8]\", \"(5.8;6.3]\", \"(6.3;6.8]\", \"(6.8;7.3]\", \"(7.3;8.0)\"],\n",
    "                   columns=['[1.4;1.5]', '(1.5;1.6]', '(1.6;1.7]', '(1.7;1.8]', '(1.8;1.9]', '(1.9;2.5]']).T\n",
    "df4['i'] = df4.sum(axis=1) # суммируем\n",
    "df4.loc['j'] = df4.sum()\n",
    "n = 0\n",
    "for i, j in zip([\"(4.8;5.3]\", \"(5.3;5.8]\", \"(5.8;6.3]\", \"(6.3;6.8]\", \"(6.8;7.3]\", \"(7.3;8.0)\"], range(6)):\n",
    "    n += df4[i][j]**2 / (df4[i][6] * df4[\"i\"][j])\n",
    "n -= 1\n",
    "n *= len(df['sepal_length'])\n",
    "xi = 37.6   # Из таблицы распределения Хи квадрата\n",
    "\n",
    "if n > xi:\n",
    "    print('Отвергается, т.к', n, '>', xi)\n",
    "else:\n",
    "    print('Подтверждается, т.к.', n, '<', xi)"
   ]
  },
  {
   "cell_type": "code",
   "execution_count": 3,
   "id": "46bb1b91",
   "metadata": {},
   "outputs": [
    {
     "name": "stdout",
     "output_type": "stream",
     "text": [
      "3.2. Вычислить оценку ковариации коэффициента корреляции. Проверить гипотезу о незначимости коэффициента корреляции\n",
      "Оценка ковариации коэффиециента корреляции 0.04909387755102044\n",
      "Коэффициент корреляции 0.2811077091573194\n",
      "Гипотеза подтверждается  2.57 > 2.02940459390154\n"
     ]
    }
   ],
   "source": [
    "# 3.2\n",
    "print('3.2. Вычислить оценку ковариации коэффициента корреляции. Проверить гипотезу о незначимости коэффициента корреляции')\n",
    "\n",
    "meanx = statistics.mean(df['sepal_length']) # Находим выборочные среднее длины чашелистика\n",
    "meany = statistics.mean(df['petal_width']) # Находим выборочные среднее ширины лепестка\n",
    "subx = [i - meanx for i in df['sepal_length']] # По формуле отнимаем от элементов выборок x и y их среднее\n",
    "suby = [i - meany for i in df['petal_width']] \n",
    "\n",
    "cov = (sum([subx[i] * suby[i] for i in range(len(subx))])) / (len(df['petal_width']) - 1)\n",
    "print(\"Оценка ковариации коэффиециента корреляции\", cov)\n",
    "\n",
    "VAL = np.vstack((df['sepal_length'], df['petal_width'])) # соединяем две выборки по вертикали\n",
    "rxy = np.corrcoef(VAL) # библиотечная функция\n",
    "rxy = rxy[1][0]\n",
    "t = (rxy * (len(df['petal_width']) - 2)**0.5) / (1 - rxy ** 2) ** 0.5\n",
    "st = 2.57 # из таблицы Стьюдента для уровня значимости 0.99\n",
    "print(\"Коэффициент корреляции\", rxy)\n",
    "if st > t:\n",
    "    print(\"Гипотеза подтверждается \", st, \">\", t)\n",
    "else:\n",
    "    print(\"Гипотеза отвергается\", st, \"<\", t)"
   ]
  },
  {
   "cell_type": "code",
   "execution_count": 5,
   "id": "4d6ca104",
   "metadata": {},
   "outputs": [
    {
     "name": "stdout",
     "output_type": "stream",
     "text": [
      "3.3. Оценить параметры линейной регрессии, вычислить коэффициент детерминации, проверить значимость модели по критерию Фишера\n"
     ]
    },
    {
     "data": {
      "image/png": "[encoded data removed]",
      "text/plain": [
       "<Figure size 432x288 with 1 Axes>"
      ]
     },
     "metadata": {
      "needs_background": "light"
     },
     "output_type": "display_data"
    },
    {
     "name": "stdout",
     "output_type": "stream",
     "text": [
      "Уравнение линейной регрессии: Y = 1.23 + 0.121X\n",
      "Коэффициент детерминации  0.07902154414767608\n",
      "Не значимая модель 4.118483005748674 > 4.04\n"
     ]
    }
   ],
   "source": [
    "# 3.3\n",
    "print(\"3.3. Оценить параметры линейной регрессии, вычислить коэффициент детерминации, проверить значимость модели по критерию Фишера\")\n",
    "\n",
    "x = df['sepal_length'].values.reshape(-1, 1)\n",
    "y = df['petal_width'].values.reshape(-1, 1)\n",
    "reg = LinearRegression()\n",
    "reg.fit(x, y)\n",
    "plt.scatter(df['sepal_length'], df['petal_width'])\n",
    "plt.plot(df['sepal_length'], reg.predict(x), color='red', linewidth=2)\n",
    "plt.show()\n",
    "print(\"Уравнение линейной регрессии: Y = {:.3} + {:.3}X\".format(reg.intercept_[0], reg.coef_[0][0]))\n",
    "\n",
    "de = rxy**2\n",
    "print(\"Коэффициент детерминации \", de)\n",
    "\n",
    "m = 1\n",
    "f = (de/(1-de)) * (len(df['petal_width']) - m - 1)/m\n",
    "fi = 4.04   # При уровне значимости 0.05 по таблице F-распределения\n",
    "if f > fi:\n",
    "    print(\"Не значимая модель\", f, \">\", fi)\n",
    "else:\n",
    "    print(\"Значимая модель\", f, \"<\", fi)"
   ]
  }
 ],
 "metadata": {
  "kernelspec": {
   "display_name": "Python 3",
   "language": "python",
   "name": "python3"
  },
  "language_info": {
   "codemirror_mode": {
    "name": "ipython",
    "version": 3
   },
   "file_extension": ".py",
   "mimetype": "text/x-python",
   "name": "python",
   "nbconvert_exporter": "python",
   "pygments_lexer": "ipython3",
   "version": "3.8.8"
  }
 },
 "nbformat": 4,
 "nbformat_minor": 5
}
